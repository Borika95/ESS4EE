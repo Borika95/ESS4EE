{
 "cells": [
  {
   "cell_type": "markdown",
   "id": "97784ab91898ab1f",
   "metadata": {},
   "source": [
    "## TO-DO List\n",
    "Below is a short TO-DO list outlining everything you need to implement in the shell to build your own Expert System.\n",
    "For more detailed instructions and additional information, refer to the corresponding components, each of which includes a Jupyter Notebook serving as a 'hub' for that component. Or go to the [README file](./README.md), specifically the _Detailed Description_ section."
   ]
  },
  {
   "cell_type": "markdown",
   "id": "c866398e813161d2",
   "metadata": {},
   "source": [
    "1. **Knowledge Base**\n",
    "    <br>The Knowledge Base already has detailed descriptions on what to do for each of its components.\n",
    "    So for more detailed descriptions go directly to it [here](./ES-Shell/Knowledge_Base/knowledge_base.ipynb).\n",
    "    <br> Here is a list of all the steps for this component:\n",
    "\n",
    "    1. Insert your Machine Description and provide a corresponding image if available.\n",
    "    2. Fill the Data-Point-Definition table in the [knowledge-base](./ES-Shell/Knowledge_Base/knowledge_base.ipynb)\n",
    "       <br> and configure the OPC UA server [here](./ES-Shell/Helpers/data_point_addresses.py).\n",
    "    3. Fill the EnPI table in the [knowledge-base](./ES-Shell/Knowledge_Base/knowledge_base.ipynb)\n",
    "    <br> and implement your EnPI definitions [here](./ES-Shell/Inference_Engine/EnPIs.py).\n",
    "    4. Fill in your energy information.\n",
    "    5. Fill the Fuzzy-Rule-Base table in the [knowledge-base](./ES-Shell/Knowledge_Base/knowledge_base.ipynb)\n",
    "    <br> and implement the rule base [here](./ES-Shell/Inference_Engine/FIS.py).\n",
    "    6. Add your sample data [here](./ES-Shell/Knowledge_Base/Sample_Data/sample_data.csv).\n",
    "    7. Add your case knowledge [here](./ES-Shell/Knowledge_Base/Case_Knowledge/case-knowledge.csv).\n",
    "    <br>\n",
    "    <br>\n",
    "    <br>\n",
    "2. **Algorithms**\n",
    "    <br>Next you need to implement all of your algorithms, MLModels and visualization functions. All of which is done in the Helpers-component.\n",
    "    <br> For more detailed descriptions on what to do you can go to the [corresponding notebook](./ES-Shell/Helpers/helpers.ipynb).\n",
    "    <br> Note that there is a [code library](./ES-Shell/Helpers/Code_Library/code_library.ipynb) in the Helpers-component, which may be used.\n",
    "    <br> Here is a list of all the steps for the Helpers-component:\n",
    "\n",
    "    1. Implement your algorithms [here](./ES-Shell/Helpers/algorithms.py).\n",
    "    2. Implement your Machine Learning Models [here](/tree/ES-Shell/Helpers/MLModels) or import them [here](./ES-Shell/Helpers/MLModels/importMLModels.py).\n",
    "    3. Implement your visualization functions [here](./ES-Shell/Helpers/visualizer.py).\n",
    "    <br>\n",
    "    <br>\n",
    "    <br>\n",
    "3. **Results**\n",
    "    <br>Lastly you will need to implement the result block in the [User Interface](./ES-Shell/Main_User_Interface/main_user_interface.ipynb).\n",
    "    <br>For more details read the User Guide in the [README file](./README.md)."
   ]
  }
 ],
 "metadata": {
  "kernelspec": {
   "display_name": "Python 3 (ipykernel)",
   "language": "python",
   "name": "python3"
  },
  "language_info": {
   "codemirror_mode": {
    "name": "ipython",
    "version": 3
   },
   "file_extension": ".py",
   "mimetype": "text/x-python",
   "name": "python",
   "nbconvert_exporter": "python",
   "pygments_lexer": "ipython3",
   "version": "3.12.8"
  }
 },
 "nbformat": 4,
 "nbformat_minor": 5
}
