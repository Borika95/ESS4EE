{
 "cells": [
  {
   "cell_type": "code",
   "execution_count": 1,
   "id": "1329a084c4ce10f6",
   "metadata": {
    "ExecuteTime": {
     "end_time": "2025-01-27T19:56:49.074611Z",
     "start_time": "2025-01-27T19:56:47.439038Z"
    },
    "jupyter": {
     "source_hidden": true
    }
   },
   "outputs": [],
   "source": [
    "# Imports\n",
    "# Add directories to path in order to import modules\n",
    "import sys\n",
    "import os\n",
    "# Import pandas to read csv files\n",
    "import pandas as pd\n",
    "import ipywidgets as widgets\n",
    "from IPython.display import display\n",
    "\n",
    "sys.path.append(os.path.abspath(os.path.join(os.getcwd(), '..', 'Helpers')))\n",
    "sys.path.append(os.path.abspath(os.path.join(os.getcwd(), '..', 'Process_Interface')))\n",
    "sys.path.append(os.path.abspath(os.path.join(os.getcwd(), '..', 'Inference_Engine')))\n",
    "\n",
    "# Import matplotlib to visualize data\n",
    "import matplotlib.pyplot as plt\n",
    "\n",
    "# Import data, algorithms and machine-learning-models\n",
    "from MLModels import importMLModels as MLModels\n",
    "import algorithms as algs\n",
    "import data_point_addresses as dp\n",
    "import connectors as machine_data\n",
    "\n",
    "# Import EnPIs and Fuzzy Control System\n",
    "from EnPIs import calculate_EnPIs\n",
    "from FIS import FuzzyControlSystem\n"
   ]
  },
  {
   "cell_type": "markdown",
   "id": "a5a08db9dd8ccf19",
   "metadata": {},
   "source": [
    "# Main User Interface\n",
    "<br>\n",
    "\n",
    "The _main user interface_ allows users to input data and interact with outputs.\n",
    "<br>\n",
    "\n",
    "It consists of two components:\n",
    "\n",
    "   1.   Knowledge acquisition\n",
    "   2.   Results"
   ]
  },
  {
   "cell_type": "markdown",
   "id": "d94d0e444a9443b5",
   "metadata": {},
   "source": [
    "## 1. Knowledge acquisition\n",
    "<br>\n",
    "\n",
    "With the following links you will be directed to the specified sections in the Knowledge Base to gather Information about the system.\n",
    "<br>\n",
    "1. [Machine Description](../Knowledge_Base/knowledge_base.ipynb#1.-Machine-description)\n",
    "2. [Data Point Definition](../Knowledge_Base/knowledge_base.ipynb#2.-Data-point-definition)\n",
    "3. [EnPI Definition](../Knowledge_Base/knowledge_base.ipynb#3.-EnPI-definition)\n",
    "4. [Energy Information](../Knowledge_Base/knowledge_base.ipynb#4.-Energy-information)\n",
    "5. [Fuzzy Rule Base Definition](../Knowledge_Base/knowledge_base.ipynb#5.-Fuzzy-rule-base-definition)\n",
    "6. [Sample Data](../Knowledge_Base/knowledge_base.ipynb#6.-Sample-data)\n",
    "7. [Case Knowledge](../Knowledge_Base/knowledge_base.ipynb#7.-Case-knowledge)\n",
    "\n"
   ]
  },
  {
   "cell_type": "markdown",
   "id": "28edc801729f4c64",
   "metadata": {},
   "source": [
    "## 2. Results\n",
    "\n",
    "You can go to the results block in the _Knowledge Base_ <a href=\"../Knowledge_Base/knowledge_base.ipynb#results\">here</a>."
   ]
  },
  {
   "cell_type": "code",
   "execution_count": 2,
   "id": "7a5b3251ff1e8cf9",
   "metadata": {
    "ExecuteTime": {
     "end_time": "2025-01-27T19:59:20.272126Z",
     "start_time": "2025-01-27T19:59:20.249747Z"
    }
   },
   "outputs": [
    {
     "data": {
      "application/vnd.jupyter.widget-view+json": {
       "model_id": "76141f9bc0444b588657bebc5d02ab3e",
       "version_major": 2,
       "version_minor": 0
      },
      "text/plain": [
       "Dropdown(description='Data Mode:', options=('offline', 'online'), value='offline')"
      ]
     },
     "metadata": {},
     "output_type": "display_data"
    },
    {
     "data": {
      "application/vnd.jupyter.widget-view+json": {
       "model_id": "dbf08f388d234fb4b8b952754fd81f20",
       "version_major": 2,
       "version_minor": 0
      },
      "text/plain": [
       "Output()"
      ]
     },
     "metadata": {},
     "output_type": "display_data"
    }
   ],
   "source": [
    "# This code block is used to calculate the result of the expert system\n",
    "# Function to load data based on the selected mode (offline/online)\n",
    "def load_data(mode='offline'):\n",
    "    \"\"\"\n",
    "    Load data based on the selected mode: 'offline' for CSV or 'online' for OPC UA.\n",
    "    \"\"\"\n",
    "    if mode == 'offline':\n",
    "        # Load data from offline CSV file\n",
    "        try:\n",
    "            # Read the CSV file for offline data. Replace with the path to your offline data file or replace the file in the current path.\n",
    "            return pd.read_csv('../Helpers/offline_measurement_data.csv')\n",
    "        except FileNotFoundError:\n",
    "            print(\"Offline data file not found.\")\n",
    "            return None\n",
    "    elif mode == 'online':\n",
    "        # Fetch data using OPC UA connector\n",
    "        try:\n",
    "            print(\"Connecting to OPC UA server...\")\n",
    "            values = machine_data.read_opcua_values(dp.server_url, dp.node_ids)\n",
    "            return pd.DataFrame(values, columns=['NodeID', 'Value'])\n",
    "        except Exception as e:\n",
    "            print(f\"Error fetching data from OPC UA server: {e}\")\n",
    "            return None\n",
    "    else:\n",
    "        print(\"Invalid mode. Please choose 'online' or 'offline'.\")\n",
    "        return None\n",
    "\n",
    "# Function to process the columns and apply algorithms after data is loaded. Our example only uses the first column.\n",
    "# This is where EnPIs are calculated and the Fuzzy Control System is applied to calculate the final result.\n",
    "def process_columns(data):\n",
    "    \"\"\"Process data columns, apply the algorithm, and calculate EnPIs.\"\"\"\n",
    "    if data is not None:\n",
    "        column_name = data.columns[0]\n",
    "\n",
    "        # Apply example Algorithm\n",
    "        summed_up = algs.exampleAlgorithm(data)\n",
    "\n",
    "        # Compute EnPIs\n",
    "        enpis, normalized_enpis = calculate_EnPIs(data, summed_up)\n",
    "\n",
    "        # Create Fuzzy Control System and compute results for EnPIs_min and EnPIs_max\n",
    "        fis = FuzzyControlSystem()\n",
    "        output = fis.set_input(normalized_enpis[f'Min {column_name}'], normalized_enpis[f'Max {column_name}'])\n",
    "\n",
    "        # Combine the results and write them to a file\n",
    "        final_result = {**enpis, 'FIS Output': output}\n",
    "\n",
    "        with open('../Knowledge_Base/results.txt', 'w') as f:\n",
    "            f.write(str(final_result))\n",
    "\n",
    "        # Print results\n",
    "        with open('../Knowledge_Base/results.txt', 'r') as f:\n",
    "            print(f.read())\n",
    "    else:\n",
    "        print(\"No data to process.\")\n",
    "\n",
    "# Function to handle mode change\n",
    "def on_mode_change(change):\n",
    "    \"\"\"Handles data loading and processing upon mode selection.\"\"\"\n",
    "    # Clear previous output\n",
    "    output_widget.clear_output()\n",
    "\n",
    "    # Fill empty output widget with new output\n",
    "    with output_widget:\n",
    "\n",
    "        mode = change['new']\n",
    "\n",
    "        # Load data based on chosen mode\n",
    "        data = load_data(mode)\n",
    "        \n",
    "        print(\"\\nResults: \\n\")\n",
    "        # Process columns once data is loaded\n",
    "        process_columns(data)\n",
    "    \n",
    "# Function to display the mode selection dropdown\n",
    "def display_data_choice():\n",
    "    \"\"\"Displays a dropdown for the user to select between 'offline' and 'online' data.\"\"\"\n",
    "    mode_widget = widgets.Dropdown(\n",
    "        options=['offline', 'online'],\n",
    "        value='offline',  # Default value\n",
    "        description='Data Mode:',\n",
    "        disabled=False\n",
    "    )\n",
    "\n",
    "    # Link the dropdown widget to the mode change function in order to change the output based on the selected mode\n",
    "    mode_widget.observe(on_mode_change, names='value')\n",
    "\n",
    "    # Display the dropdown widget\n",
    "    display(mode_widget)\n",
    "\n",
    "    # When first executing the code block, the output for the offline mode will be displayed\n",
    "    # If you don't want that, delete this line of code\n",
    "    on_mode_change({'new': mode_widget.value})\n",
    "\n",
    "# Initialize the output widget used to display the data\n",
    "output_widget = widgets.Output()\n",
    "\n",
    "# Call to display the dropdown for mode selection\n",
    "display_data_choice()\n",
    "\n",
    "# Display the output widget\n",
    "display(output_widget)"
   ]
  },
  {
   "cell_type": "code",
   "execution_count": 3,
   "id": "198c00da4281e831",
   "metadata": {
    "ExecuteTime": {
     "end_time": "2025-01-27T18:41:11.932015Z",
     "start_time": "2025-01-27T18:41:11.831282Z"
    },
    "jupyter": {
     "source_hidden": true
    }
   },
   "outputs": [
    {
     "data": {
      "image/png": "[encoded data removed]",
      "text/plain": [
       "<Figure size 640x480 with 1 Axes>"
      ]
     },
     "metadata": {},
     "output_type": "display_data"
    }
   ],
   "source": [
    "# Plot data\n",
    "plt.plot([0.0777,0.0777])\n",
    "\n",
    "# Add labels\n",
    "plt.title('Example visualizer')\n",
    "\n",
    "# Show plot\n",
    "plt.show()"
   ]
  }
 ],
 "metadata": {
  "kernelspec": {
   "display_name": "Python 3 (ipykernel)",
   "language": "python",
   "name": "python3"
  },
  "language_info": {
   "codemirror_mode": {
    "name": "ipython",
    "version": 3
   },
   "file_extension": ".py",
   "mimetype": "text/x-python",
   "name": "python",
   "nbconvert_exporter": "python",
   "pygments_lexer": "ipython3",
   "version": "3.12.8"
  }
 },
 "nbformat": 4,
 "nbformat_minor": 5
}
