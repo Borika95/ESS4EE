{
 "cells": [
  {
   "cell_type": "markdown",
   "id": "1a4e99e3f5bfeae4",
   "metadata": {},
   "source": [
    "# Knowledge Base\n",
    "\n",
    "This part of the expert system contains the specialized information, rules, and facts that the system uses to make decisions and solve problems.\n",
    "It consists of eight components:\n",
    "\n",
    "   1.  Machine description\n",
    "   2.  Data point definition\n",
    "   3.  EnPI definition\n",
    "   4.  Energy information\n",
    "   5.  Fuzzy rule base definition\n",
    "   6.  Sample data\n",
    "   7.  Case knowledge\n",
    "   8.  Results"
   ]
  },
  {
   "cell_type": "markdown",
   "id": "5c587989500b062e",
   "metadata": {},
   "source": [
    "## 1. Machine description\n",
    "<br>\n",
    "\n",
    "Please enter your description of the machine here.\n",
    "<br>To replace the following image with a visual representation of the machine, simply swap out the 'MachineDescriptionImage.jpg' file in the Knowledge_Base folder.\n",
    "<br>You can download the image <a href=\"MachineDescriptionImage.jpg\" download>here</a>.\n",
    "<br>\n",
    "\n",
    "You may also add a link to a website that provides more information about the machine [here](https://www.example.com).\n",
    "(_Replace this link or delete this line if not needed_)\n",
    "\n",
    "![Machine description image](MachineDescriptionImage.jpg)\n",
    "\n"
   ]
  },
  {
   "cell_type": "markdown",
   "id": "73e40f308611c25b",
   "metadata": {},
   "source": [
    "## 2. Data point definition\n",
    "<br>\n",
    "\n",
    "Here you need to define the _data points_ that are relevant to the machine.\n",
    "   1. Fill in the table below\n",
    "2. Adjusting the OPC UA Configuration <a href=\"../Helpers/helpers.ipynb\">here</a>\n",
    "\n",
    "\n",
    "\n",
    "<br>\n",
    "\n",
    "| Data point name | Description   | Units  |\n",
    "|-----------------|---------------|--------|\n",
    "| Data point 1    | Description 1 | Unit 1 |\n",
    "| Data point 2    | Description 2 | Unit 2 |\n"
   ]
  },
  {
   "cell_type": "markdown",
   "id": "5714ea22cc8c54e9",
   "metadata": {},
   "source": [
    "## 3. EnPI definition\n",
    "<br>\n",
    "\n",
    "Here you need to define the _Energy Performance Indicators_ (EnPIs) that are used in the expert system.\n",
    "   1. Fill in the table below\n",
    "   2. Implement your EnPI definitions <a href=\"../Inference_Engine/EnPIs.py\">here</a>\n",
    "\n",
    "<br>\n",
    "\n",
    "| EnPI   | Description   | Formula   | Units  |\n",
    "|--------|---------------|-----------|--------|\n",
    "| EnPI 1 | Description 1 | Formula 1 | Unit 1 |\n",
    "| EnPI 2 | Description 2 | Formula 2 | Unit 2 |"
   ]
  },
  {
   "cell_type": "markdown",
   "id": "5ea11eb8c6a98c6f",
   "metadata": {},
   "source": [
    "## 4. Energy information\n",
    "<br>\n",
    "\n",
    "This is where you should give _energy-related information_ (e.g. baseline energy consumption).\n",
    "<br>\n",
    "\n",
    "\n"
   ]
  },
  {
   "cell_type": "code",
   "execution_count": 17,
   "id": "ce725e17d48ba87e",
   "metadata": {
    "ExecuteTime": {
     "end_time": "2025-01-08T08:53:31.422174Z",
     "start_time": "2025-01-08T08:53:31.419535Z"
    }
   },
   "outputs": [],
   "source": [
    "#You can use this code block to visualize specific energy-related data, or remove it if unnecessary."
   ]
  },
  {
   "cell_type": "markdown",
   "id": "6586e5cc2bbc65d2",
   "metadata": {},
   "source": [
    "## 5. Fuzzy rule base definition\n",
    "<br>\n",
    "\n",
    "Here you need to define the _rule base_ the system will use to evaluate the machine.\n",
    "<br>\n",
    "\n",
    "   1. Fill in the table below\n",
    "   2. Implement the rule base <a href=\"../Inference_Engine/FIS.py\">here</a>\n",
    "\n",
    "<br>\n",
    "\n",
    "| Rule number | Antecedent/Premise | Consequent/Result |\n",
    "|-------------|--------------------|-------------------|\n",
    "| 1           | Premise 1          | Result 1          |\n",
    "| 2           | Premise 2          | Result 2          |"
   ]
  },
  {
   "cell_type": "markdown",
   "id": "6285f4e9e30bfcd3",
   "metadata": {},
   "source": [
    "## 6. Sample data\n",
    "<br>\n",
    "\n",
    "Please navigate to the ['Sample_Data' directory](/tree/ES-Shell/Knowledge_Base/Sample_Data) and add sample data to the [given csv file](Sample_Data/sample_data.csv) or replace it with another csv file with the same name.\n",
    "<br> Insert a file that demonstrates the required data format for successfully utilizing the completed Expert System.\n",
    "<br>\n",
    "\n",
    "The sample data will be read and displayed in the following code cell, please make sure the description of the data is displayed correctly:"
   ]
  },
  {
   "cell_type": "code",
   "execution_count": 1,
   "id": "bc3132442b995c2c",
   "metadata": {
    "ExecuteTime": {
     "end_time": "2025-01-08T08:53:31.445678Z",
     "start_time": "2025-01-08T08:53:31.438180Z"
    },
    "scrolled": true
   },
   "outputs": [
    {
     "name": "stdout",
     "output_type": "stream",
     "text": [
      "       sample data\n",
      "count     5.000000\n",
      "mean      3.000000\n",
      "std       1.581139\n",
      "min       1.000000\n",
      "25%       2.000000\n",
      "50%       3.000000\n",
      "75%       4.000000\n",
      "max       5.000000\n"
     ]
    }
   ],
   "source": [
    "import pandas as pd\n",
    "\n",
    "def load_data():\n",
    "    # Load the sample data\n",
    "    sample_data = pd.read_csv('Sample_Data/sample_data.csv')\n",
    "    return sample_data\n",
    "\n",
    "def display_description(sample_data):\n",
    "    # Display the description of the data\n",
    "    return print(sample_data.describe())\n",
    "\n",
    "\n",
    "data = load_data()\n",
    "display_description(data)"
   ]
  },
  {
   "cell_type": "markdown",
   "id": "442b95ca19c2c8fe",
   "metadata": {},
   "source": [
    "## 7. Case knowledge\n",
    "<br>\n",
    "\n",
    "Please provide case-specific knowledge for the system (e.g. how machine cycles look) in the [case_knowledge.csv](Case_Knowledge/case-knowledge.csv) file <br>located in the ['Case_Knowledge' directory](/tree/ES-Shell/Knowledge_Base/Case_Knowledge).\n",
    "\n",
    "The case knowledge will be read and displayed in the following code cell:\n"
   ]
  },
  {
   "cell_type": "code",
   "execution_count": 2,
   "id": "6d8b6fa45fe084bc",
   "metadata": {
    "ExecuteTime": {
     "end_time": "2025-01-08T08:53:31.465686Z",
     "start_time": "2025-01-08T08:53:31.459864Z"
    }
   },
   "outputs": [
    {
     "name": "stdout",
     "output_type": "stream",
     "text": [
      "          Timestamp            Variable  Value Unit\n",
      "0  2024-12-11 12:00         Temperature     75   °C\n",
      "1  2024-12-11 12:00  Energy_Consumption    500  kWh\n"
     ]
    }
   ],
   "source": [
    "import pandas as pd\n",
    "\n",
    "def load_case_knowledge():\n",
    "    # Load the case knowledge\n",
    "    case_knowledge = pd.read_csv('Case_Knowledge/case-knowledge.csv')\n",
    "    return case_knowledge\n",
    "\n",
    "def display_case_knowledge(case_knowledge):\n",
    "    # Display the case knowledge\n",
    "    return print(case_knowledge)\n",
    "\n",
    "ck = load_case_knowledge()\n",
    "display_case_knowledge(ck)"
   ]
  },
  {
   "cell_type": "markdown",
   "id": "5c5cfc84f53a7254",
   "metadata": {},
   "source": [
    "## 8. Results\n",
    "<br>\n",
    "Once the system finishes its calculation the resulting EnPIs will be displayed by the code block below.\n",
    "\n",
    "\n",
    "\n"
   ]
  },
  {
   "cell_type": "code",
   "execution_count": 3,
   "id": "53c2c1e87caec031",
   "metadata": {
    "ExecuteTime": {
     "end_time": "2025-01-08T08:53:31.478652Z",
     "start_time": "2025-01-08T08:53:31.474650Z"
    }
   },
   "outputs": [
    {
     "name": "stdout",
     "output_type": "stream",
     "text": [
      "THIS IS WHERE THE RESULTS WILL BE DISPLAYED\n"
     ]
    }
   ],
   "source": [
    "# Read the results\n",
    "with open('results.txt') as file:\n",
    "    results =file.read()\n",
    "\n",
    "print(results)"
   ]
  },
  {
   "cell_type": "markdown",
   "id": "7970632ec4e62234",
   "metadata": {},
   "source": [
    "Implement your visualization functions <a href=\"../Helpers/visualizer.py\">here</a>\n",
    "<br><br>\n",
    "The result will be visualized  in the following figure:\n"
   ]
  },
  {
   "cell_type": "code",
   "execution_count": 4,
   "id": "ad6a6428852e7808",
   "metadata": {
    "ExecuteTime": {
     "end_time": "2025-01-28T10:48:43.333973Z",
     "start_time": "2025-01-28T10:48:42.971216Z"
    }
   },
   "outputs": [
    {
     "data": {
      "image/png": "[encoded data removed]",
      "text/plain": [
       "<Figure size 640x480 with 1 Axes>"
      ]
     },
     "metadata": {},
     "output_type": "display_data"
    }
   ],
   "source": [
    "# Import matplotlib to visualize data\n",
    "import matplotlib.pyplot as plt\n",
    "# Plot data\n",
    "plt.plot([0.0777,0.0777])\n",
    "\n",
    "# Add labels\n",
    "plt.title('Example visualizer')\n",
    "\n",
    "# Show plot\n",
    "plt.show()"
   ]
  }
 ],
 "metadata": {
  "kernelspec": {
   "display_name": "Python 3 (ipykernel)",
   "language": "python",
   "name": "python3"
  },
  "language_info": {
   "codemirror_mode": {
    "name": "ipython",
    "version": 3
   },
   "file_extension": ".py",
   "mimetype": "text/x-python",
   "name": "python",
   "nbconvert_exporter": "python",
   "pygments_lexer": "ipython3",
   "version": "3.12.8"
  }
 },
 "nbformat": 4,
 "nbformat_minor": 5
}
