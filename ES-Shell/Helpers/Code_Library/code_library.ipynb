{
 "cells": [
  {
   "cell_type": "code",
   "execution_count": 1,
   "id": "875a2d2212e56a3d",
   "metadata": {
    "ExecuteTime": {
     "end_time": "2025-01-13T10:48:15.982883Z",
     "start_time": "2025-01-13T10:48:15.979765Z"
    },
    "jupyter": {
     "source_hidden": true
    }
   },
   "outputs": [],
   "source": [
    "# Imports\n",
    "from ipywidgets import Button, Output\n",
    "from IPython.display import display, HTML\n",
    "import pyperclip as pc"
   ]
  },
  {
   "cell_type": "markdown",
   "id": "f5360392a7f9c0eb",
   "metadata": {},
   "source": [
    "# Code Library\n",
    "\n",
    "The ['Code_Library'](/tree/ES-Shell/Helpers/Code_Library) folders contain preexisting code examples for the Helper components.\n",
    "<br> If these examples are useful, they can be incorporated into your own work by inserting them into the corresponding files.\n",
    "\n"
   ]
  },
  {
   "cell_type": "markdown",
   "id": "217cbfc356b8b59d",
   "metadata": {},
   "source": [
    "## 1. Algorithms\n",
    "\n",
    "The following code examples can be found [here](/tree/ES-Shell/Helpers/Code_Library/Algorithms_Library).\n",
    "<br>\n",
    "<br>\n"
   ]
  },
  {
   "cell_type": "code",
   "execution_count": 2,
   "id": "4e4f27ae6762cff3",
   "metadata": {
    "ExecuteTime": {
     "end_time": "2025-01-13T10:48:16.029407Z",
     "start_time": "2025-01-13T10:48:16.019210Z"
    },
    "jupyter": {
     "source_hidden": true
    }
   },
   "outputs": [
    {
     "data": {
      "text/html": [
       "<h5>Motif Finder</h5> <p>This code provides a tool to identify motifs (repeated patterns) in time-series data.</p>"
      ],
      "text/plain": [
       "<IPython.core.display.HTML object>"
      ]
     },
     "metadata": {},
     "output_type": "display_data"
    },
    {
     "data": {
      "application/vnd.jupyter.widget-view+json": {
       "model_id": "135c93cd93174a9a82f2d86083efd6f5",
       "version_major": 2,
       "version_minor": 0
      },
      "text/plain": [
       "Button(description='Show/Copy Code', style=ButtonStyle())"
      ]
     },
     "metadata": {},
     "output_type": "display_data"
    },
    {
     "data": {
      "application/vnd.jupyter.widget-view+json": {
       "model_id": "67d5214e442e42a09318b235b897b0c8",
       "version_major": 2,
       "version_minor": 0
      },
      "text/plain": [
       "Output()"
      ]
     },
     "metadata": {},
     "output_type": "display_data"
    }
   ],
   "source": [
    "out = Output()\n",
    "code_shown = False\n",
    "\n",
    "def toggle_code(_):\n",
    "    global code_shown\n",
    "    with out:\n",
    "        # Clear the output\n",
    "        out.clear_output()\n",
    "        \n",
    "        # Read the code file\n",
    "        try:\n",
    "            with open(\"./Algorithms_Library/motif_finder.py\", \"r\") as file:\n",
    "                code = file.read()\n",
    "        except Exception as e:\n",
    "            print(f\"Error: {e}\")\n",
    "            \n",
    "        if code_shown:\n",
    "            code_shown = False\n",
    "            \n",
    "        else:\n",
    "            code_shown = True\n",
    "            pc.copy(code)\n",
    "            print(code)\n",
    "\n",
    "\n",
    "# Create the button widget and display it\n",
    "button = Button(description=\"Show/Copy Code\")\n",
    "button.on_click(toggle_code)\n",
    "\n",
    "display(HTML(\"<h5>Motif Finder</h5> <p>This code provides a tool to identify motifs (repeated patterns) in time-series data.</p>\"))\n",
    "display(button)\n",
    "display(out)\n"
   ]
  },
  {
   "cell_type": "markdown",
   "id": "923b4fc7344c626c",
   "metadata": {},
   "source": [
    "## 2. Machine Learning Models\n",
    "The following code examples can be found [here](/tree/ES-Shell/Helpers/Code_Library/Machine_Learning_Models_Library).\n",
    "<br>\n",
    "<br>"
   ]
  },
  {
   "cell_type": "code",
   "execution_count": 3,
   "id": "79c8cc4ee01456bf",
   "metadata": {
    "ExecuteTime": {
     "end_time": "2025-01-13T10:48:16.071245Z",
     "start_time": "2025-01-13T10:48:16.060414Z"
    },
    "jupyter": {
     "source_hidden": true
    }
   },
   "outputs": [
    {
     "data": {
      "text/html": [
       "<h5>Linear Regression MLModel</h5> <p>This code defines a polynomial transformation of the input and applies a linear regression model to predict the \"target\" value based on this transformed data.</p>"
      ],
      "text/plain": [
       "<IPython.core.display.HTML object>"
      ]
     },
     "metadata": {},
     "output_type": "display_data"
    },
    {
     "data": {
      "application/vnd.jupyter.widget-view+json": {
       "model_id": "c167d1433dec43c09ca34754731c601d",
       "version_major": 2,
       "version_minor": 0
      },
      "text/plain": [
       "Button(description='Show/Copy Code', style=ButtonStyle())"
      ]
     },
     "metadata": {},
     "output_type": "display_data"
    },
    {
     "data": {
      "application/vnd.jupyter.widget-view+json": {
       "model_id": "dd1b8ce02fca462c8c785473a9781469",
       "version_major": 2,
       "version_minor": 0
      },
      "text/plain": [
       "Output()"
      ]
     },
     "metadata": {},
     "output_type": "display_data"
    }
   ],
   "source": [
    "out2 = Output()\n",
    "code_shown2 = False\n",
    "\n",
    "def toggle_code2(_):\n",
    "    global code_shown2\n",
    "    with out2:\n",
    "        # Clear the output\n",
    "        out2.clear_output()\n",
    "\n",
    "        # Read the code file\n",
    "        try:\n",
    "            with open(\"./Machine_Learning_Models_Library/linear_regression_mlmodel.pmml\", \"r\") as file:\n",
    "                code2 = file.read()\n",
    "        except Exception as e:\n",
    "            print(f\"Error: {e}\")\n",
    "\n",
    "        if code_shown2:\n",
    "            code_shown2 = False\n",
    "\n",
    "        else:\n",
    "            code_shown2 = True\n",
    "            pc.copy(code2)\n",
    "            print(code2)\n",
    "\n",
    "\n",
    "# Create the button widget and display it\n",
    "button2 = Button(description=\"Show/Copy Code\")\n",
    "button2.on_click(toggle_code2)\n",
    "\n",
    "display(HTML(\"<h5>Linear Regression MLModel</h5> <p>This code defines a polynomial transformation of the input and applies a linear regression model to predict the \\\"target\\\" value based on this transformed data.</p>\"))\n",
    "display(button2)\n",
    "display(out2)"
   ]
  },
  {
   "cell_type": "markdown",
   "id": "56675ec3a570533d",
   "metadata": {},
   "source": [
    "## 3. Visualization Functions\n",
    "The following code examples can be found [here](/tree/ES-Shell/Helpers/Code_Library/Visualization_Function_Library).\n",
    "<br>\n",
    "<br>"
   ]
  },
  {
   "cell_type": "code",
   "execution_count": 4,
   "id": "89af0025aa3f6fa3",
   "metadata": {
    "ExecuteTime": {
     "end_time": "2025-01-13T10:52:14.433298Z",
     "start_time": "2025-01-13T10:52:14.421944Z"
    },
    "jupyter": {
     "source_hidden": true
    }
   },
   "outputs": [
    {
     "data": {
      "text/html": [
       "<h5>Fuzzy Visualizer</h5> <p>This code helps in visualizing fuzzy logic-based systems. It can handle both 2D and 3D visualization based on the number of inputs.</p>"
      ],
      "text/plain": [
       "<IPython.core.display.HTML object>"
      ]
     },
     "metadata": {},
     "output_type": "display_data"
    },
    {
     "data": {
      "application/vnd.jupyter.widget-view+json": {
       "model_id": "07d64d46b9ec48f4b3ab52d9920379f0",
       "version_major": 2,
       "version_minor": 0
      },
      "text/plain": [
       "Button(description='Show/Copy Code', style=ButtonStyle())"
      ]
     },
     "metadata": {},
     "output_type": "display_data"
    },
    {
     "data": {
      "application/vnd.jupyter.widget-view+json": {
       "model_id": "ef8ba9e847b64459a13bdab7ad30f459",
       "version_major": 2,
       "version_minor": 0
      },
      "text/plain": [
       "Output()"
      ]
     },
     "metadata": {},
     "output_type": "display_data"
    }
   ],
   "source": [
    "out3 = Output()\n",
    "code_shown3 = False\n",
    "\n",
    "def toggle_code3(_):\n",
    "    global code_shown3\n",
    "    with out3:\n",
    "        # Clear the output\n",
    "        out3.clear_output()\n",
    "\n",
    "        # Read the code file\n",
    "        try:\n",
    "            with open(\"./Visualization_Function_Library/fuzzy_visualizer.py\", \"r\") as file:\n",
    "                code3 = file.read()\n",
    "        except Exception as e:\n",
    "            print(f\"Error: {e}\")\n",
    "\n",
    "        if code_shown3:\n",
    "            code_shown3 = False\n",
    "\n",
    "        else:\n",
    "            code_shown3 = True\n",
    "            pc.copy(code3)\n",
    "            print(code3)\n",
    "\n",
    "\n",
    "# Create the button widget and display it\n",
    "button3 = Button(description=\"Show/Copy Code\")\n",
    "button3.on_click(toggle_code3)\n",
    "\n",
    "display(HTML(\"<h5>Fuzzy Visualizer</h5> <p>This code helps in visualizing fuzzy logic-based systems. It can handle both 2D and 3D visualization based on the number of inputs.</p>\"))\n",
    "display(button3)\n",
    "display(out3)"
   ]
  },
  {
   "cell_type": "code",
   "execution_count": 5,
   "id": "2a6c49605e803eb8",
   "metadata": {
    "ExecuteTime": {
     "end_time": "2025-01-13T10:54:29.913241Z",
     "start_time": "2025-01-13T10:54:29.903922Z"
    },
    "jupyter": {
     "source_hidden": true
    }
   },
   "outputs": [
    {
     "data": {
      "text/html": [
       "<h5>Job Plotter</h5> <p>This code visualizes motifs and their associated jobs in time-series data.</p>"
      ],
      "text/plain": [
       "<IPython.core.display.HTML object>"
      ]
     },
     "metadata": {},
     "output_type": "display_data"
    },
    {
     "data": {
      "application/vnd.jupyter.widget-view+json": {
       "model_id": "041cca91a3104c7590e5fad4e8f83511",
       "version_major": 2,
       "version_minor": 0
      },
      "text/plain": [
       "Button(description='Show/Copy Code', style=ButtonStyle())"
      ]
     },
     "metadata": {},
     "output_type": "display_data"
    },
    {
     "data": {
      "application/vnd.jupyter.widget-view+json": {
       "model_id": "20953c591eba4e80a99f0cea0a958744",
       "version_major": 2,
       "version_minor": 0
      },
      "text/plain": [
       "Output()"
      ]
     },
     "metadata": {},
     "output_type": "display_data"
    }
   ],
   "source": [
    "out4 = Output()\n",
    "code_shown4 = False\n",
    "\n",
    "def toggle_code4(_):\n",
    "    global code_shown4\n",
    "    with out4:\n",
    "        # Clear the output\n",
    "        out4.clear_output()\n",
    "\n",
    "        # Read the code file\n",
    "        try:\n",
    "            with open(\"./Visualization_Function_Library/job_plotter.py\", \"r\") as file:\n",
    "                code4 = file.read()\n",
    "        except Exception as e:\n",
    "            print(f\"Error: {e}\")\n",
    "\n",
    "        if code_shown4:\n",
    "            code_shown4 = False\n",
    "\n",
    "        else:\n",
    "            code_shown4 = True\n",
    "            pc.copy(code4)\n",
    "            print(code4)\n",
    "\n",
    "\n",
    "# Create the button widget and display it\n",
    "button4 = Button(description=\"Show/Copy Code\")\n",
    "button4.on_click(toggle_code4)\n",
    "\n",
    "display(HTML(\"<h5>Job Plotter</h5> <p>This code visualizes motifs and their associated jobs in time-series data.</p>\"))\n",
    "display(button4)\n",
    "display(out4)"
   ]
  }
 ],
 "metadata": {
  "kernelspec": {
   "display_name": "Python 3 (ipykernel)",
   "language": "python",
   "name": "python3"
  },
  "language_info": {
   "codemirror_mode": {
    "name": "ipython",
    "version": 3
   },
   "file_extension": ".py",
   "mimetype": "text/x-python",
   "name": "python",
   "nbconvert_exporter": "python",
   "pygments_lexer": "ipython3",
   "version": "3.12.7"
  }
 },
 "nbformat": 4,
 "nbformat_minor": 5
}
