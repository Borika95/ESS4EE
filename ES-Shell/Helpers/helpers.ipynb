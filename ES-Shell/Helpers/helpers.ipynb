{
 "cells": [
  {
   "cell_type": "markdown",
   "id": "800f280f4b0b8163",
   "metadata": {},
   "source": [
    "# Helpers\n",
    "<br>\n",
    "\n",
    "The _helpers_ component provides support functions to facilitate the integration of algorithm, machine learning models, and visualization tools.\n",
    "<br> It also assigns addresses to data points, enabling effective data processing and presentation within the expert system\n",
    "<br>\n",
    "\n",
    "It consists of four components:\n",
    "\n",
    "   1.   Data point addresses\n",
    "   2.   Algorithms\n",
    "   3.   ML models\n",
    "   4.   Visualization functions"
   ]
  },
  {
   "cell_type": "markdown",
   "id": "80d3e52149cf3ed4",
   "metadata": {},
   "source": [
    "## 1. Data point addresses\n",
    "\n",
    "The configuration for the OPC UA server (e.g., server_url and node_ids) is managed in the script data_point_addresses.py.\n",
    "\n",
    "- **Script Location**: [here](./data_point_addresses.py)\n",
    "- **Fields to Adjust**:\n",
    "  1. **Server URL**: Update the server_url field with the actual OPC UA server address.\n",
    "  2. **NodeIDs**: Modify the node_ids list to include the desired NodeIDs for reading values.\n",
    "\n"
   ]
  },
  {
   "cell_type": "markdown",
   "id": "ae71a31ee1824028",
   "metadata": {},
   "source": [
    "## 2. Algorithms\n",
    "\n",
    "This component handles the logic and processes needed for tasks like data analysis, decision-making, and preprocessing within the expert system. It integrates seamlessly with data points, machine learning models, and visualization tools, ensuring modularity and efficiency.\n",
    "\n",
    "Note: Please add your algorithms in the [algorithms.py](./algorithms.py) file."
   ]
  },
  {
   "cell_type": "markdown",
   "id": "e662b33610c09f4d",
   "metadata": {},
   "source": [
    "## 3. ML models\n",
    "\n",
    "The ML models component integrates machine learning into the expert system, enabling tasks like prediction, classification, and anomaly detection. Users can add pre-trained or custom models to enhance the system's intelligence.\n",
    "\n",
    "Note: Please include your machine learning models in the [MLModels directory](/tree/ES-Shell/Helpers/MLModels) or import your ML model in the\n",
    "[importMLModels.py](../helpers/MLModels/importMLModels.py) file."
   ]
  },
  {
   "cell_type": "markdown",
   "id": "14189ed4631911c7",
   "metadata": {},
   "source": [
    "## 4. Visualization functions\n",
    "\n",
    "The visualization functions component creates charts, graphs, and other visuals to represent data and results effectively. It helps analyze trends, monitor performance, and understand outputs.\n",
    "\n",
    "Note: Add or modify visualization functions in the [visualizer.py](./visualizer.py) file."
   ]
  }
 ],
 "metadata": {
  "kernelspec": {
   "display_name": "Python 3 (ipykernel)",
   "language": "python",
   "name": "python3"
  },
  "language_info": {
   "codemirror_mode": {
    "name": "ipython",
    "version": 3
   },
   "file_extension": ".py",
   "mimetype": "text/x-python",
   "name": "python",
   "nbconvert_exporter": "python",
   "pygments_lexer": "ipython3",
   "version": "3.9.10"
  }
 },
 "nbformat": 4,
 "nbformat_minor": 5
}
