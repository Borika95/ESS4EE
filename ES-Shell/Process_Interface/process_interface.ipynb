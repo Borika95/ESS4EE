{
 "cells": [
  {
   "metadata": {},
   "cell_type": "markdown",
   "source": [
    "# Process Interface\n",
    "<br>\n",
    "\n",
    "The process interface links the expert system to external systems, collecting machine data\n",
    "<br> used for processing.\n",
    "<br>\n",
    "\n",
    "It consists of one component:"
   ],
   "id": "5cbcdc0474e62b49"
  },
  {
   "metadata": {},
   "cell_type": "markdown",
   "source": [
    "## 1. Connectors\n",
    "The connectors component establishes a connection to a remote OPC UA server and retrieves real-time machine data.\n",
    "<br> This data is used as input for the expert system to analyze and generate insights.\n",
    " - You can adjust the server URL and NodeIDs in the [data_point_addresses.py](../Helpers/data_point_addresses.py) script.\n",
    " - You can access the connectors.py script [here](./connectors.py)."
   ],
   "id": "b254561166dee62a"
  }
 ],
 "metadata": {
  "kernelspec": {
   "display_name": "Python 3",
   "language": "python",
   "name": "python3"
  },
  "language_info": {
   "codemirror_mode": {
    "name": "ipython",
    "version": 2
   },
   "file_extension": ".py",
   "mimetype": "text/x-python",
   "name": "python",
   "nbconvert_exporter": "python",
   "pygments_lexer": "ipython2",
   "version": "2.7.6"
  }
 },
 "nbformat": 4,
 "nbformat_minor": 5
}
