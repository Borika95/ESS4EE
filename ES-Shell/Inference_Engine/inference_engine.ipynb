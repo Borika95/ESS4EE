{
 "cells": [
  {
   "cell_type": "markdown",
   "id": "8fb7be6ff751deb7",
   "metadata": {},
   "source": [
    "# Inference Engine\n",
    "<br>\n",
    "\n",
    "The _inference engine_ component applies reasoning by matching facts with heuristic rules to draw conclusions.\n",
    "<br>\n",
    "\n",
    "It consists of four components:\n",
    "\n",
    "   1.   Membership functions\n",
    "   2.   Inference mechanism\n",
    "   3.   Fuzzy rule base\n",
    "   4.   Energy Performance Indicators (EnPI)\n"
   ]
  },
  {
   "cell_type": "markdown",
   "id": "22a393c9df2bec36",
   "metadata": {},
   "source": [
    "## 1. Membership functions\n",
    "\n",
    "Membership functions define the degree of membership of a variable in a fuzzy set, transforming crisp input values into fuzzy values that can be processed by the inference engine. Typically, they use shapes like triangular, trapezoidal, or Gaussian to represent fuzzy sets. Defining and adjusting these functions is crucial for the system to perform fuzzy logic operations, mapping input variables to fuzzy sets. They are implemented in the [FIS.py](../Inference_Engine/FIS.py) file."
   ]
  },
  {
   "cell_type": "markdown",
   "id": "9ca2d9c87de842f4",
   "metadata": {},
   "source": [
    "## 2. Inference mechanism\n",
    "\n",
    "The inference mechanism is responsible for processing fuzzy inputs and applying rules to generate fuzzy outputs. It uses fuzzy rules, typically in the form of \"If-Then\" statements, to make decisions. This process involves fuzzification, rule evaluation, and defuzzification.\n",
    "\n",
    "Here, you can specify the logic of the inference mechanism, including how it evaluates rules and how fuzzy outputs are converted back to crisp values. This component is essential for translating fuzzy logic into actionable results. It is part of the [FIS.py](../Inference_Engine/FIS.py) file."
   ]
  },
  {
   "cell_type": "markdown",
   "id": "936f64548df7ba49",
   "metadata": {},
   "source": [
    "## 3. Fuzzy rule base\n",
    "\n",
    "The fuzzy rule base consists of a set of fuzzy rules that guide the reasoning process in the system. These rules typically follow an \"If-Then\" format. The rule base determines how the inputs (processed through membership functions) are combined to produce outputs, influencing the decision-making process.\n",
    "\n",
    "The fuzzy rule base is implemented in the script located at [FIS.py](../Inference_Engine/FIS.py). In this script, the fuzzy rules are defined, and the inference engine uses them to draw conclusions from the fuzzy inputs.\n",
    "\n",
    "You can modify the rules in this file as needed to suit the requirements of your system."
   ]
  },
  {
   "cell_type": "markdown",
   "id": "ba8e7e4cdc8ecd4a",
   "metadata": {},
   "source": [
    "## 4. Energy Performance Indicators (EnPI)\n",
    "\n",
    "Energy Performance Indicators (EnPIs) are key metrics used to evaluate the energy efficiency and performance of the system. They are used as input for the Fuzzy Inference System and help to track and optimize energy consumption in the system.\n",
    "\n",
    "The EnPIs are implemented in the script located at [EnPIs.py](../Inference_Engine/EnPIs.py). In this file, you can define the EnPIs, including the formulas and calculations used to generate them. These indicators will provide insights into the system's energy performance."
   ]
  }
 ],
 "metadata": {
  "kernelspec": {
   "display_name": "Python 3 (ipykernel)",
   "language": "python",
   "name": "python3"
  },
  "language_info": {
   "codemirror_mode": {
    "name": "ipython",
    "version": 3
   },
   "file_extension": ".py",
   "mimetype": "text/x-python",
   "name": "python",
   "nbconvert_exporter": "python",
   "pygments_lexer": "ipython3",
   "version": "3.9.10"
  }
 },
 "nbformat": 4,
 "nbformat_minor": 5
}
